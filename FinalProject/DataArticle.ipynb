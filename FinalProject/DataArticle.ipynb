{
 "cells": [
  {
   "cell_type": "markdown",
   "id": "ccbcbbf6-a7e1-496a-8a0c-8f06769a1182",
   "metadata": {},
   "source": [
    "# My project looks at complaints for rent stabilized apartments in Manhattan and Broojlyn Complains.\n",
    "from Jan 01 12am 2020 to april 11 5pm.\n",
    "\n",
    "\n",
    "I'm guessing that complaints increased eaach year since 2021 as Landlords try to make more money from their properties. Landlords claim they need to do improvements so that they can up the cost based on the remodel. They may also like a new tenant so they can adjust their property price to the current market value.\n",
    "\n",
    "PDFs --\n",
    "Manhattan: https://rentguidelinesboard.cityofnewyork.us/wp-content/uploads/2024/11/2023-DHCR-Bldg-File-Manhattan.pdf\n",
    "Brooklyn: https://rentguidelinesboard.cityofnewyork.us/wp-content/uploads/2024/11/2023-DHCR-Bldg-File-Brooklyn.pdf"
   ]
  },
  {
   "cell_type": "code",
   "execution_count": 9,
   "id": "2a1a5405-99ce-4729-89f9-904462d6d654",
   "metadata": {},
   "outputs": [],
   "source": [
    "import pandas as pd"
   ]
  },
  {
   "cell_type": "code",
   "execution_count": null,
   "id": "8afd9a85-d3a6-4fd0-bbc5-f3f0ed0ef593",
   "metadata": {},
   "outputs": [],
   "source": [
    "## call in my complaints data"
   ]
  },
  {
   "cell_type": "code",
   "execution_count": 17,
   "id": "24e43779-a17f-439b-aded-8f45895714d5",
   "metadata": {},
   "outputs": [],
   "source": [
    "df_complaintsraw = pd.read_csv('Housing_Maintenance_Code_Complaints_and_Problems_20250411.csv')"
   ]
  },
  {
   "cell_type": "code",
   "execution_count": 18,
   "id": "d5dfc57b-c3e7-4ea0-b48b-1ed977572856",
   "metadata": {},
   "outputs": [
    {
     "name": "stdout",
     "output_type": "stream",
     "text": [
      "<class 'pandas.core.frame.DataFrame'>\n",
      "RangeIndex: 1869009 entries, 0 to 1869008\n",
      "Data columns (total 33 columns):\n",
      " #   Column                    Dtype  \n",
      "---  ------                    -----  \n",
      " 0   Received Date             object \n",
      " 1   Problem ID                int64  \n",
      " 2   Complaint ID              int64  \n",
      " 3   Building ID               int64  \n",
      " 4   Borough                   object \n",
      " 5   House Number              object \n",
      " 6   Street Name               object \n",
      " 7   Post Code                 float64\n",
      " 8   Block                     int64  \n",
      " 9   Lot                       int64  \n",
      " 10  Apartment                 object \n",
      " 11  Community Board           int64  \n",
      " 12  Unit Type                 object \n",
      " 13  Space Type                object \n",
      " 14  Type                      object \n",
      " 15  Major Category            object \n",
      " 16  Minor Category            object \n",
      " 17  Problem Code              object \n",
      " 18  Complaint Status          object \n",
      " 19  Complaint Status Date     object \n",
      " 20  Problem Status            object \n",
      " 21  Problem Status Date       object \n",
      " 22  Status Description        object \n",
      " 23  Problem Duplicate Flag    object \n",
      " 24  Complaint Anonymous Flag  object \n",
      " 25  Unique Key                float64\n",
      " 26  Latitude                  float64\n",
      " 27  Longitude                 float64\n",
      " 28  Council District          float64\n",
      " 29  Census Tract              float64\n",
      " 30  BIN                       float64\n",
      " 31  BBL                       float64\n",
      " 32  NTA                       object \n",
      "dtypes: float64(8), int64(6), object(19)\n",
      "memory usage: 470.6+ MB\n"
     ]
    }
   ],
   "source": [
    "df_complaintsraw.info()"
   ]
  },
  {
   "cell_type": "code",
   "execution_count": 237,
   "id": "448642d1-b976-4b79-8eb9-d9422132c1e9",
   "metadata": {
    "scrolled": true
   },
   "outputs": [
    {
     "data": {
      "text/plain": [
       "1869009"
      ]
     },
     "execution_count": 237,
     "metadata": {},
     "output_type": "execute_result"
    }
   ],
   "source": [
    "len(df_complaintsraw)"
   ]
  },
  {
   "cell_type": "code",
   "execution_count": 79,
   "id": "fb34dcae-957d-4499-9490-6ed4c11c67e1",
   "metadata": {},
   "outputs": [
    {
     "data": {
      "text/html": [
       "<div>\n",
       "<style scoped>\n",
       "    .dataframe tbody tr th:only-of-type {\n",
       "        vertical-align: middle;\n",
       "    }\n",
       "\n",
       "    .dataframe tbody tr th {\n",
       "        vertical-align: top;\n",
       "    }\n",
       "\n",
       "    .dataframe thead th {\n",
       "        text-align: right;\n",
       "    }\n",
       "</style>\n",
       "<table border=\"1\" class=\"dataframe\">\n",
       "  <thead>\n",
       "    <tr style=\"text-align: right;\">\n",
       "      <th></th>\n",
       "      <th>Received Date</th>\n",
       "      <th>Block</th>\n",
       "      <th>Lot</th>\n",
       "      <th>Space Type</th>\n",
       "      <th>Type</th>\n",
       "      <th>Major Category</th>\n",
       "      <th>Minor Category</th>\n",
       "      <th>Problem Code</th>\n",
       "      <th>Problem Status</th>\n",
       "      <th>Problem Duplicate Flag</th>\n",
       "      <th>NTA</th>\n",
       "    </tr>\n",
       "  </thead>\n",
       "  <tbody>\n",
       "    <tr>\n",
       "      <th>0</th>\n",
       "      <td>01/01/2020</td>\n",
       "      <td>2215</td>\n",
       "      <td>326</td>\n",
       "      <td>KITCHEN</td>\n",
       "      <td>NON EMERGENCY</td>\n",
       "      <td>PLUMBING</td>\n",
       "      <td>WATER SUPPLY</td>\n",
       "      <td>NO HOT WATER</td>\n",
       "      <td>CLOSE</td>\n",
       "      <td>N</td>\n",
       "      <td>Kingsbridge-Marble Hill</td>\n",
       "    </tr>\n",
       "    <tr>\n",
       "      <th>1</th>\n",
       "      <td>01/01/2020</td>\n",
       "      <td>2095</td>\n",
       "      <td>23</td>\n",
       "      <td>ENTIRE APARTMENT</td>\n",
       "      <td>EMERGENCY</td>\n",
       "      <td>HEAT/HOT WATER</td>\n",
       "      <td>APARTMENT ONLY</td>\n",
       "      <td>NO HEAT</td>\n",
       "      <td>CLOSE</td>\n",
       "      <td>Y</td>\n",
       "      <td>Hamilton Heights-Sugar Hill</td>\n",
       "    </tr>\n",
       "    <tr>\n",
       "      <th>2</th>\n",
       "      <td>01/01/2020</td>\n",
       "      <td>862</td>\n",
       "      <td>11</td>\n",
       "      <td>BUILDING-WIDE</td>\n",
       "      <td>EMERGENCY</td>\n",
       "      <td>HEAT/HOT WATER</td>\n",
       "      <td>ENTIRE BUILDING</td>\n",
       "      <td>NO HEAT</td>\n",
       "      <td>CLOSE</td>\n",
       "      <td>N</td>\n",
       "      <td>Midtown South-Flatiron-Union Square</td>\n",
       "    </tr>\n",
       "    <tr>\n",
       "      <th>3</th>\n",
       "      <td>01/01/2020</td>\n",
       "      <td>2215</td>\n",
       "      <td>326</td>\n",
       "      <td>ENTIRE APARTMENT</td>\n",
       "      <td>EMERGENCY</td>\n",
       "      <td>DOOR/WINDOW</td>\n",
       "      <td>DOOR</td>\n",
       "      <td>BROKEN OR MISSING</td>\n",
       "      <td>CLOSE</td>\n",
       "      <td>N</td>\n",
       "      <td>Kingsbridge-Marble Hill</td>\n",
       "    </tr>\n",
       "    <tr>\n",
       "      <th>4</th>\n",
       "      <td>01/01/2020</td>\n",
       "      <td>244</td>\n",
       "      <td>40</td>\n",
       "      <td>ENTRANCE/FOYER</td>\n",
       "      <td>EMERGENCY</td>\n",
       "      <td>DOOR/WINDOW</td>\n",
       "      <td>WINDOW PANE</td>\n",
       "      <td>GLASS BROKEN OR MISSING</td>\n",
       "      <td>CLOSE</td>\n",
       "      <td>N</td>\n",
       "      <td>Lower East Side</td>\n",
       "    </tr>\n",
       "    <tr>\n",
       "      <th>...</th>\n",
       "      <td>...</td>\n",
       "      <td>...</td>\n",
       "      <td>...</td>\n",
       "      <td>...</td>\n",
       "      <td>...</td>\n",
       "      <td>...</td>\n",
       "      <td>...</td>\n",
       "      <td>...</td>\n",
       "      <td>...</td>\n",
       "      <td>...</td>\n",
       "      <td>...</td>\n",
       "    </tr>\n",
       "    <tr>\n",
       "      <th>1869004</th>\n",
       "      <td>04/10/2025</td>\n",
       "      <td>1879</td>\n",
       "      <td>43</td>\n",
       "      <td>BUILDING-WIDE</td>\n",
       "      <td>EMERGENCY</td>\n",
       "      <td>HEAT/HOT WATER</td>\n",
       "      <td>ENTIRE BUILDING</td>\n",
       "      <td>NO HOT WATER</td>\n",
       "      <td>OPEN</td>\n",
       "      <td>Y</td>\n",
       "      <td>Upper West Side-Manhattan Valley</td>\n",
       "    </tr>\n",
       "    <tr>\n",
       "      <th>1869005</th>\n",
       "      <td>04/10/2025</td>\n",
       "      <td>1999</td>\n",
       "      <td>15</td>\n",
       "      <td>ENTIRE APARTMENT</td>\n",
       "      <td>EMERGENCY</td>\n",
       "      <td>HEAT/HOT WATER</td>\n",
       "      <td>APARTMENT ONLY</td>\n",
       "      <td>NO HEAT</td>\n",
       "      <td>OPEN</td>\n",
       "      <td>N</td>\n",
       "      <td>Bedford-Stuyvesant (West)</td>\n",
       "    </tr>\n",
       "    <tr>\n",
       "      <th>1869006</th>\n",
       "      <td>04/10/2025</td>\n",
       "      <td>923</td>\n",
       "      <td>39</td>\n",
       "      <td>ENTIRE APARTMENT</td>\n",
       "      <td>EMERGENCY</td>\n",
       "      <td>HEAT/HOT WATER</td>\n",
       "      <td>APARTMENT ONLY</td>\n",
       "      <td>NO HEAT</td>\n",
       "      <td>OPEN</td>\n",
       "      <td>Y</td>\n",
       "      <td>Gramercy</td>\n",
       "    </tr>\n",
       "    <tr>\n",
       "      <th>1869007</th>\n",
       "      <td>04/11/2025</td>\n",
       "      <td>2054</td>\n",
       "      <td>79</td>\n",
       "      <td>BUILDING-WIDE</td>\n",
       "      <td>EMERGENCY</td>\n",
       "      <td>HEAT/HOT WATER</td>\n",
       "      <td>ENTIRE BUILDING</td>\n",
       "      <td>NO HOT WATER</td>\n",
       "      <td>OPEN</td>\n",
       "      <td>N</td>\n",
       "      <td>Hamilton Heights-Sugar Hill</td>\n",
       "    </tr>\n",
       "    <tr>\n",
       "      <th>1869008</th>\n",
       "      <td>04/11/2025</td>\n",
       "      <td>2054</td>\n",
       "      <td>79</td>\n",
       "      <td>BATHROOM</td>\n",
       "      <td>EMERGENCY</td>\n",
       "      <td>WATER LEAK</td>\n",
       "      <td>HEAVY FLOW</td>\n",
       "      <td>AT WALL OR CEILING</td>\n",
       "      <td>OPEN</td>\n",
       "      <td>N</td>\n",
       "      <td>Hamilton Heights-Sugar Hill</td>\n",
       "    </tr>\n",
       "  </tbody>\n",
       "</table>\n",
       "<p>1869009 rows × 11 columns</p>\n",
       "</div>"
      ],
      "text/plain": [
       "        Received Date  Block  Lot        Space Type           Type  \\\n",
       "0          01/01/2020   2215  326           KITCHEN  NON EMERGENCY   \n",
       "1          01/01/2020   2095   23  ENTIRE APARTMENT      EMERGENCY   \n",
       "2          01/01/2020    862   11     BUILDING-WIDE      EMERGENCY   \n",
       "3          01/01/2020   2215  326  ENTIRE APARTMENT      EMERGENCY   \n",
       "4          01/01/2020    244   40    ENTRANCE/FOYER      EMERGENCY   \n",
       "...               ...    ...  ...               ...            ...   \n",
       "1869004    04/10/2025   1879   43     BUILDING-WIDE      EMERGENCY   \n",
       "1869005    04/10/2025   1999   15  ENTIRE APARTMENT      EMERGENCY   \n",
       "1869006    04/10/2025    923   39  ENTIRE APARTMENT      EMERGENCY   \n",
       "1869007    04/11/2025   2054   79     BUILDING-WIDE      EMERGENCY   \n",
       "1869008    04/11/2025   2054   79          BATHROOM      EMERGENCY   \n",
       "\n",
       "         Major Category   Minor Category             Problem Code  \\\n",
       "0              PLUMBING     WATER SUPPLY             NO HOT WATER   \n",
       "1        HEAT/HOT WATER   APARTMENT ONLY                  NO HEAT   \n",
       "2        HEAT/HOT WATER  ENTIRE BUILDING                  NO HEAT   \n",
       "3           DOOR/WINDOW             DOOR        BROKEN OR MISSING   \n",
       "4           DOOR/WINDOW      WINDOW PANE  GLASS BROKEN OR MISSING   \n",
       "...                 ...              ...                      ...   \n",
       "1869004  HEAT/HOT WATER  ENTIRE BUILDING             NO HOT WATER   \n",
       "1869005  HEAT/HOT WATER   APARTMENT ONLY                  NO HEAT   \n",
       "1869006  HEAT/HOT WATER   APARTMENT ONLY                  NO HEAT   \n",
       "1869007  HEAT/HOT WATER  ENTIRE BUILDING             NO HOT WATER   \n",
       "1869008      WATER LEAK       HEAVY FLOW       AT WALL OR CEILING   \n",
       "\n",
       "        Problem Status Problem Duplicate Flag  \\\n",
       "0                CLOSE                      N   \n",
       "1                CLOSE                      Y   \n",
       "2                CLOSE                      N   \n",
       "3                CLOSE                      N   \n",
       "4                CLOSE                      N   \n",
       "...                ...                    ...   \n",
       "1869004           OPEN                      Y   \n",
       "1869005           OPEN                      N   \n",
       "1869006           OPEN                      Y   \n",
       "1869007           OPEN                      N   \n",
       "1869008           OPEN                      N   \n",
       "\n",
       "                                         NTA  \n",
       "0                    Kingsbridge-Marble Hill  \n",
       "1                Hamilton Heights-Sugar Hill  \n",
       "2        Midtown South-Flatiron-Union Square  \n",
       "3                    Kingsbridge-Marble Hill  \n",
       "4                            Lower East Side  \n",
       "...                                      ...  \n",
       "1869004     Upper West Side-Manhattan Valley  \n",
       "1869005            Bedford-Stuyvesant (West)  \n",
       "1869006                             Gramercy  \n",
       "1869007          Hamilton Heights-Sugar Hill  \n",
       "1869008          Hamilton Heights-Sugar Hill  \n",
       "\n",
       "[1869009 rows x 11 columns]"
      ]
     },
     "execution_count": 79,
     "metadata": {},
     "output_type": "execute_result"
    }
   ],
   "source": [
    "df_complaintsraw[['Received Date','Block', 'Lot','Space Type','Type','Major Category','Minor Category', 'Problem Code','Problem Status','Problem Duplicate Flag','NTA']]"
   ]
  },
  {
   "cell_type": "code",
   "execution_count": 81,
   "id": "5aeefe21-2178-4f16-a067-8008582b9194",
   "metadata": {},
   "outputs": [
    {
     "data": {
      "text/plain": [
       "14"
      ]
     },
     "execution_count": 81,
     "metadata": {},
     "output_type": "execute_result"
    }
   ],
   "source": [
    "## how many major category types are there?\n",
    "df_complaintsraw[\"Major Category\"].nunique()"
   ]
  },
  {
   "cell_type": "code",
   "execution_count": 83,
   "id": "f5c30c51-e54d-458d-871f-86867914237b",
   "metadata": {},
   "outputs": [
    {
     "data": {
      "text/plain": [
       "array(['PLUMBING', 'HEAT/HOT WATER', 'DOOR/WINDOW', 'WATER LEAK',\n",
       "       'GENERAL', 'FLOORING/STAIRS', 'ELECTRIC', 'PAINT/PLASTER',\n",
       "       'UNSANITARY CONDITION', 'APPLIANCE', 'SAFETY', 'ELEVATOR',\n",
       "       'OUTSIDE BUILDING', 'LINE OF TRAVEL'], dtype=object)"
      ]
     },
     "execution_count": 83,
     "metadata": {},
     "output_type": "execute_result"
    }
   ],
   "source": [
    "df_complaintsraw[\"Major Category\"].unique()"
   ]
  },
  {
   "cell_type": "code",
   "execution_count": 85,
   "id": "bcd531b8-5d39-417c-ba0c-1502d8c21091",
   "metadata": {},
   "outputs": [
    {
     "data": {
      "text/plain": [
       "59"
      ]
     },
     "execution_count": 85,
     "metadata": {},
     "output_type": "execute_result"
    }
   ],
   "source": [
    "## how many minor category types are there?\n",
    "df_complaintsraw[\"Minor Category\"].nunique()\n",
    "\n",
    "## okay so a more detailed look at the general main/\"major\" category and problem code is even more decriptive"
   ]
  },
  {
   "cell_type": "code",
   "execution_count": 87,
   "id": "4d3ecf5f-1e8b-4c90-bc0b-6ca0a5d1b4b6",
   "metadata": {},
   "outputs": [
    {
     "data": {
      "text/plain": [
       "33"
      ]
     },
     "execution_count": 87,
     "metadata": {},
     "output_type": "execute_result"
    }
   ],
   "source": [
    "## how many space types??\n",
    "df_complaintsraw[\"Space Type\"].nunique()"
   ]
  },
  {
   "cell_type": "code",
   "execution_count": 95,
   "id": "68791454-db8b-4350-b5d1-a5ba7245c7ce",
   "metadata": {},
   "outputs": [],
   "source": [
    "## save it as the DataFrame i'll be working in\n",
    "\n",
    "complaints_df = df_complaintsraw[['Received Date','Block', 'Lot','Space Type','Type','Major Category','Minor Category', 'Problem Code','Problem Status','Problem Duplicate Flag','NTA']]"
   ]
  },
  {
   "cell_type": "code",
   "execution_count": 97,
   "id": "470a242d-b1fa-4112-9159-847434e465ca",
   "metadata": {},
   "outputs": [],
   "source": [
    "# import my list of blocks and lots to vlookup\n",
    "\n",
    "df_stabilizedraw = pd.read_excel('Rent Stabilized Buildings in NYC.xlsx', sheet_name='Block and Lot')"
   ]
  },
  {
   "cell_type": "code",
   "execution_count": 92,
   "id": "4fe0932d-aae4-4fdd-b31a-b7b2827cae8d",
   "metadata": {},
   "outputs": [
    {
     "data": {
      "text/html": [
       "<div>\n",
       "<style scoped>\n",
       "    .dataframe tbody tr th:only-of-type {\n",
       "        vertical-align: middle;\n",
       "    }\n",
       "\n",
       "    .dataframe tbody tr th {\n",
       "        vertical-align: top;\n",
       "    }\n",
       "\n",
       "    .dataframe thead th {\n",
       "        text-align: right;\n",
       "    }\n",
       "</style>\n",
       "<table border=\"1\" class=\"dataframe\">\n",
       "  <thead>\n",
       "    <tr style=\"text-align: right;\">\n",
       "      <th></th>\n",
       "      <th>Block</th>\n",
       "      <th>Lot</th>\n",
       "      <th>Rent Stabilized</th>\n",
       "    </tr>\n",
       "  </thead>\n",
       "  <tbody>\n",
       "    <tr>\n",
       "      <th>0</th>\n",
       "      <td>2290</td>\n",
       "      <td>17.0</td>\n",
       "      <td>Yes</td>\n",
       "    </tr>\n",
       "    <tr>\n",
       "      <th>1</th>\n",
       "      <td>2290</td>\n",
       "      <td>19.0</td>\n",
       "      <td>Yes</td>\n",
       "    </tr>\n",
       "    <tr>\n",
       "      <th>2</th>\n",
       "      <td>2290</td>\n",
       "      <td>20.0</td>\n",
       "      <td>Yes</td>\n",
       "    </tr>\n",
       "    <tr>\n",
       "      <th>3</th>\n",
       "      <td>2290</td>\n",
       "      <td>22.0</td>\n",
       "      <td>Yes</td>\n",
       "    </tr>\n",
       "    <tr>\n",
       "      <th>4</th>\n",
       "      <td>2290</td>\n",
       "      <td>23.0</td>\n",
       "      <td>Yes</td>\n",
       "    </tr>\n",
       "    <tr>\n",
       "      <th>...</th>\n",
       "      <td>...</td>\n",
       "      <td>...</td>\n",
       "      <td>...</td>\n",
       "    </tr>\n",
       "    <tr>\n",
       "      <th>30027</th>\n",
       "      <td>759</td>\n",
       "      <td>7.0</td>\n",
       "      <td>Yes</td>\n",
       "    </tr>\n",
       "    <tr>\n",
       "      <th>30028</th>\n",
       "      <td>733</td>\n",
       "      <td>23.0</td>\n",
       "      <td>Yes</td>\n",
       "    </tr>\n",
       "    <tr>\n",
       "      <th>30029</th>\n",
       "      <td>733</td>\n",
       "      <td>8.0</td>\n",
       "      <td>Yes</td>\n",
       "    </tr>\n",
       "    <tr>\n",
       "      <th>30030</th>\n",
       "      <td>732</td>\n",
       "      <td>68.0</td>\n",
       "      <td>Yes</td>\n",
       "    </tr>\n",
       "    <tr>\n",
       "      <th>30031</th>\n",
       "      <td>733</td>\n",
       "      <td>1.0</td>\n",
       "      <td>Yes</td>\n",
       "    </tr>\n",
       "  </tbody>\n",
       "</table>\n",
       "<p>30032 rows × 3 columns</p>\n",
       "</div>"
      ],
      "text/plain": [
       "      Block   Lot Rent Stabilized\n",
       "0      2290  17.0             Yes\n",
       "1      2290  19.0             Yes\n",
       "2      2290  20.0             Yes\n",
       "3      2290  22.0             Yes\n",
       "4      2290  23.0             Yes\n",
       "...     ...   ...             ...\n",
       "30027   759   7.0             Yes\n",
       "30028   733  23.0             Yes\n",
       "30029   733   8.0             Yes\n",
       "30030   732  68.0             Yes\n",
       "30031   733   1.0             Yes\n",
       "\n",
       "[30032 rows x 3 columns]"
      ]
     },
     "execution_count": 92,
     "metadata": {},
     "output_type": "execute_result"
    }
   ],
   "source": [
    "\n",
    "df_stabilizedraw"
   ]
  },
  {
   "cell_type": "code",
   "execution_count": 109,
   "id": "aedc6ec8-1193-4cd6-bfd5-4ffd151456b1",
   "metadata": {},
   "outputs": [],
   "source": [
    "#only showing rent stabilized apartments by merging dfs\n",
    "## renaming simply because it has all of the information that i want/need\n",
    "df = complaints_df.merge(df_stabilizedraw, on=['Block','Lot'], how='inner')"
   ]
  },
  {
   "cell_type": "code",
   "execution_count": 123,
   "id": "576975b3-8b78-4988-bae8-9f6ebd6deb64",
   "metadata": {},
   "outputs": [],
   "source": [
    "## puts datetime format for the received date column??\n",
    "df['Received Date'] = pd.to_datetime(df['Received Date'], format='%m/%d/%Y')"
   ]
  },
  {
   "cell_type": "code",
   "execution_count": 197,
   "id": "56491226-ca8c-4b4d-aa45-98d6b42b5ebb",
   "metadata": {},
   "outputs": [],
   "source": [
    "## save it\n",
    "df['Year'] = df['Received Date'].dt.year"
   ]
  },
  {
   "cell_type": "code",
   "execution_count": 135,
   "id": "82859d23-534a-424c-b94d-df3d21d0ba88",
   "metadata": {},
   "outputs": [
    {
     "data": {
      "text/plain": [
       "Received Date\n",
       "2020    223416\n",
       "2021    296053\n",
       "2022    357106\n",
       "2023    345471\n",
       "2024    393266\n",
       "2025    138076\n",
       "Name: Rent Stabilized, dtype: int64"
      ]
     },
     "execution_count": 135,
     "metadata": {},
     "output_type": "execute_result"
    }
   ],
   "source": [
    "#break down of numbers of complaints by year\n",
    "\n",
    "df.groupby(df['Received Date'].dt.year)['Rent Stabilized'].count()"
   ]
  },
  {
   "cell_type": "code",
   "execution_count": 203,
   "id": "e3b4b914-537c-4c64-8944-eccf29762672",
   "metadata": {},
   "outputs": [
    {
     "data": {
      "text/html": [
       "<div>\n",
       "<style scoped>\n",
       "    .dataframe tbody tr th:only-of-type {\n",
       "        vertical-align: middle;\n",
       "    }\n",
       "\n",
       "    .dataframe tbody tr th {\n",
       "        vertical-align: top;\n",
       "    }\n",
       "\n",
       "    .dataframe thead th {\n",
       "        text-align: right;\n",
       "    }\n",
       "</style>\n",
       "<table border=\"1\" class=\"dataframe\">\n",
       "  <thead>\n",
       "    <tr style=\"text-align: right;\">\n",
       "      <th></th>\n",
       "      <th>Number of Complaints by year</th>\n",
       "    </tr>\n",
       "    <tr>\n",
       "      <th>Year</th>\n",
       "      <th></th>\n",
       "    </tr>\n",
       "  </thead>\n",
       "  <tbody>\n",
       "    <tr>\n",
       "      <th>2020</th>\n",
       "      <td>223416</td>\n",
       "    </tr>\n",
       "    <tr>\n",
       "      <th>2021</th>\n",
       "      <td>296053</td>\n",
       "    </tr>\n",
       "    <tr>\n",
       "      <th>2022</th>\n",
       "      <td>357106</td>\n",
       "    </tr>\n",
       "    <tr>\n",
       "      <th>2023</th>\n",
       "      <td>345471</td>\n",
       "    </tr>\n",
       "    <tr>\n",
       "      <th>2024</th>\n",
       "      <td>393266</td>\n",
       "    </tr>\n",
       "    <tr>\n",
       "      <th>2025</th>\n",
       "      <td>138076</td>\n",
       "    </tr>\n",
       "  </tbody>\n",
       "</table>\n",
       "</div>"
      ],
      "text/plain": [
       "      Number of Complaints by year\n",
       "Year                              \n",
       "2020                        223416\n",
       "2021                        296053\n",
       "2022                        357106\n",
       "2023                        345471\n",
       "2024                        393266\n",
       "2025                        138076"
      ]
     },
     "execution_count": 203,
     "metadata": {},
     "output_type": "execute_result"
    }
   ],
   "source": [
    "## make it look nicer and add commas\n",
    "df.groupby(df['Year'])['Rent Stabilized'].count().to_frame(\"Number of Complaints by year\")\n"
   ]
  },
  {
   "cell_type": "markdown",
   "id": "7fd4cb0b-7809-42e7-941b-5976c8284561",
   "metadata": {},
   "source": [
    "## how do i add commas???"
   ]
  },
  {
   "cell_type": "code",
   "execution_count": 205,
   "id": "6665c4be-456c-4e9b-91d4-259623b1d673",
   "metadata": {},
   "outputs": [
    {
     "data": {
      "text/html": [
       "<div>\n",
       "<style scoped>\n",
       "    .dataframe tbody tr th:only-of-type {\n",
       "        vertical-align: middle;\n",
       "    }\n",
       "\n",
       "    .dataframe tbody tr th {\n",
       "        vertical-align: top;\n",
       "    }\n",
       "\n",
       "    .dataframe thead th {\n",
       "        text-align: right;\n",
       "    }\n",
       "</style>\n",
       "<table border=\"1\" class=\"dataframe\">\n",
       "  <thead>\n",
       "    <tr style=\"text-align: right;\">\n",
       "      <th></th>\n",
       "      <th>Number of Complaints by year</th>\n",
       "    </tr>\n",
       "    <tr>\n",
       "      <th>Year</th>\n",
       "      <th></th>\n",
       "    </tr>\n",
       "  </thead>\n",
       "  <tbody>\n",
       "    <tr>\n",
       "      <th>2024</th>\n",
       "      <td>393266</td>\n",
       "    </tr>\n",
       "    <tr>\n",
       "      <th>2022</th>\n",
       "      <td>357106</td>\n",
       "    </tr>\n",
       "    <tr>\n",
       "      <th>2023</th>\n",
       "      <td>345471</td>\n",
       "    </tr>\n",
       "    <tr>\n",
       "      <th>2021</th>\n",
       "      <td>296053</td>\n",
       "    </tr>\n",
       "    <tr>\n",
       "      <th>2020</th>\n",
       "      <td>223416</td>\n",
       "    </tr>\n",
       "  </tbody>\n",
       "</table>\n",
       "</div>"
      ],
      "text/plain": [
       "      Number of Complaints by year\n",
       "Year                              \n",
       "2024                        393266\n",
       "2022                        357106\n",
       "2023                        345471\n",
       "2021                        296053\n",
       "2020                        223416"
      ]
     },
     "execution_count": 205,
     "metadata": {},
     "output_type": "execute_result"
    }
   ],
   "source": [
    "## largest to smallest\n",
    "df.groupby(df['Year'])['Rent Stabilized'].count().nlargest().to_frame(\"Number of Complaints by year\")\n"
   ]
  },
  {
   "cell_type": "code",
   "execution_count": 231,
   "id": "93651f43-70c9-45e2-82e9-c00787f0ace7",
   "metadata": {},
   "outputs": [
    {
     "data": {
      "text/html": [
       "<div>\n",
       "<style scoped>\n",
       "    .dataframe tbody tr th:only-of-type {\n",
       "        vertical-align: middle;\n",
       "    }\n",
       "\n",
       "    .dataframe tbody tr th {\n",
       "        vertical-align: top;\n",
       "    }\n",
       "\n",
       "    .dataframe thead th {\n",
       "        text-align: right;\n",
       "    }\n",
       "</style>\n",
       "<table border=\"1\" class=\"dataframe\">\n",
       "  <thead>\n",
       "    <tr style=\"text-align: right;\">\n",
       "      <th></th>\n",
       "      <th></th>\n",
       "      <th>Number of Emergencies By Year</th>\n",
       "    </tr>\n",
       "    <tr>\n",
       "      <th>Year</th>\n",
       "      <th>Type</th>\n",
       "      <th></th>\n",
       "    </tr>\n",
       "  </thead>\n",
       "  <tbody>\n",
       "    <tr>\n",
       "      <th rowspan=\"3\" valign=\"top\">2020</th>\n",
       "      <th>EMERGENCY</th>\n",
       "      <td>142252</td>\n",
       "    </tr>\n",
       "    <tr>\n",
       "      <th>IMMEDIATE EMERGENCY</th>\n",
       "      <td>8074</td>\n",
       "    </tr>\n",
       "    <tr>\n",
       "      <th>NON EMERGENCY</th>\n",
       "      <td>73090</td>\n",
       "    </tr>\n",
       "    <tr>\n",
       "      <th rowspan=\"3\" valign=\"top\">2021</th>\n",
       "      <th>EMERGENCY</th>\n",
       "      <td>182794</td>\n",
       "    </tr>\n",
       "    <tr>\n",
       "      <th>IMMEDIATE EMERGENCY</th>\n",
       "      <td>10798</td>\n",
       "    </tr>\n",
       "    <tr>\n",
       "      <th>NON EMERGENCY</th>\n",
       "      <td>102461</td>\n",
       "    </tr>\n",
       "    <tr>\n",
       "      <th rowspan=\"3\" valign=\"top\">2022</th>\n",
       "      <th>EMERGENCY</th>\n",
       "      <td>230082</td>\n",
       "    </tr>\n",
       "    <tr>\n",
       "      <th>IMMEDIATE EMERGENCY</th>\n",
       "      <td>11866</td>\n",
       "    </tr>\n",
       "    <tr>\n",
       "      <th>NON EMERGENCY</th>\n",
       "      <td>115158</td>\n",
       "    </tr>\n",
       "    <tr>\n",
       "      <th rowspan=\"3\" valign=\"top\">2023</th>\n",
       "      <th>EMERGENCY</th>\n",
       "      <td>207021</td>\n",
       "    </tr>\n",
       "    <tr>\n",
       "      <th>IMMEDIATE EMERGENCY</th>\n",
       "      <td>11107</td>\n",
       "    </tr>\n",
       "    <tr>\n",
       "      <th>NON EMERGENCY</th>\n",
       "      <td>127343</td>\n",
       "    </tr>\n",
       "    <tr>\n",
       "      <th rowspan=\"3\" valign=\"top\">2024</th>\n",
       "      <th>EMERGENCY</th>\n",
       "      <td>237419</td>\n",
       "    </tr>\n",
       "    <tr>\n",
       "      <th>IMMEDIATE EMERGENCY</th>\n",
       "      <td>13417</td>\n",
       "    </tr>\n",
       "    <tr>\n",
       "      <th>NON EMERGENCY</th>\n",
       "      <td>142430</td>\n",
       "    </tr>\n",
       "    <tr>\n",
       "      <th rowspan=\"3\" valign=\"top\">2025</th>\n",
       "      <th>EMERGENCY</th>\n",
       "      <td>97618</td>\n",
       "    </tr>\n",
       "    <tr>\n",
       "      <th>IMMEDIATE EMERGENCY</th>\n",
       "      <td>4209</td>\n",
       "    </tr>\n",
       "    <tr>\n",
       "      <th>NON EMERGENCY</th>\n",
       "      <td>36249</td>\n",
       "    </tr>\n",
       "  </tbody>\n",
       "</table>\n",
       "</div>"
      ],
      "text/plain": [
       "                          Number of Emergencies By Year\n",
       "Year Type                                              \n",
       "2020 EMERGENCY                                   142252\n",
       "     IMMEDIATE EMERGENCY                           8074\n",
       "     NON EMERGENCY                                73090\n",
       "2021 EMERGENCY                                   182794\n",
       "     IMMEDIATE EMERGENCY                          10798\n",
       "     NON EMERGENCY                               102461\n",
       "2022 EMERGENCY                                   230082\n",
       "     IMMEDIATE EMERGENCY                          11866\n",
       "     NON EMERGENCY                               115158\n",
       "2023 EMERGENCY                                   207021\n",
       "     IMMEDIATE EMERGENCY                          11107\n",
       "     NON EMERGENCY                               127343\n",
       "2024 EMERGENCY                                   237419\n",
       "     IMMEDIATE EMERGENCY                          13417\n",
       "     NON EMERGENCY                               142430\n",
       "2025 EMERGENCY                                    97618\n",
       "     IMMEDIATE EMERGENCY                           4209\n",
       "     NON EMERGENCY                                36249"
      ]
     },
     "execution_count": 231,
     "metadata": {},
     "output_type": "execute_result"
    }
   ],
   "source": [
    "###What was the most common complaint type???\n",
    "\n",
    "df.groupby(['Year', 'Type']).size().to_frame(\"Number of Emergencies By Year\")"
   ]
  },
  {
   "cell_type": "code",
   "execution_count": 235,
   "id": "f4184574-53ed-4b0e-b8d3-96054f0b15fe",
   "metadata": {},
   "outputs": [
    {
     "data": {
      "text/html": [
       "<div>\n",
       "<style scoped>\n",
       "    .dataframe tbody tr th:only-of-type {\n",
       "        vertical-align: middle;\n",
       "    }\n",
       "\n",
       "    .dataframe tbody tr th {\n",
       "        vertical-align: top;\n",
       "    }\n",
       "\n",
       "    .dataframe thead th {\n",
       "        text-align: right;\n",
       "    }\n",
       "</style>\n",
       "<table border=\"1\" class=\"dataframe\">\n",
       "  <thead>\n",
       "    <tr style=\"text-align: right;\">\n",
       "      <th></th>\n",
       "      <th>Number of Emergencies By Year</th>\n",
       "    </tr>\n",
       "    <tr>\n",
       "      <th>Year</th>\n",
       "      <th></th>\n",
       "    </tr>\n",
       "  </thead>\n",
       "  <tbody>\n",
       "    <tr>\n",
       "      <th>2024</th>\n",
       "      <td>393266</td>\n",
       "    </tr>\n",
       "    <tr>\n",
       "      <th>2022</th>\n",
       "      <td>357106</td>\n",
       "    </tr>\n",
       "    <tr>\n",
       "      <th>2023</th>\n",
       "      <td>345471</td>\n",
       "    </tr>\n",
       "    <tr>\n",
       "      <th>2021</th>\n",
       "      <td>296053</td>\n",
       "    </tr>\n",
       "    <tr>\n",
       "      <th>2020</th>\n",
       "      <td>223416</td>\n",
       "    </tr>\n",
       "  </tbody>\n",
       "</table>\n",
       "</div>"
      ],
      "text/plain": [
       "      Number of Emergencies By Year\n",
       "Year                               \n",
       "2024                         393266\n",
       "2022                         357106\n",
       "2023                         345471\n",
       "2021                         296053\n",
       "2020                         223416"
      ]
     },
     "execution_count": 235,
     "metadata": {},
     "output_type": "execute_result"
    }
   ],
   "source": [
    "## which year has the most regular emergency\n",
    "df.groupby(['Year']) ['Type'].size().nlargest().to_frame(\"Number of Emergencies By Year\")"
   ]
  },
  {
   "cell_type": "code",
   "execution_count": 239,
   "id": "68f8ac87-1087-4189-a53c-92f7eae81395",
   "metadata": {},
   "outputs": [
    {
     "data": {
      "text/plain": [
       "1753388"
      ]
     },
     "execution_count": 239,
     "metadata": {},
     "output_type": "execute_result"
    }
   ],
   "source": [
    "len(df)"
   ]
  },
  {
   "cell_type": "code",
   "execution_count": null,
   "id": "3e556805-ae64-4d66-817f-6dcbf0b16d79",
   "metadata": {},
   "outputs": [],
   "source": []
  }
 ],
 "metadata": {
  "kernelspec": {
   "display_name": "Python [conda env:base] *",
   "language": "python",
   "name": "conda-base-py"
  },
  "language_info": {
   "codemirror_mode": {
    "name": "ipython",
    "version": 3
   },
   "file_extension": ".py",
   "mimetype": "text/x-python",
   "name": "python",
   "nbconvert_exporter": "python",
   "pygments_lexer": "ipython3",
   "version": "3.12.7"
  }
 },
 "nbformat": 4,
 "nbformat_minor": 5
}
